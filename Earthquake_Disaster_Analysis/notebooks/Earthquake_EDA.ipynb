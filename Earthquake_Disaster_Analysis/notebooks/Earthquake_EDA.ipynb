{
 "cells": [
  {
   "cell_type": "code",
   "execution_count": null,
   "id": "34f85347",
   "metadata": {},
   "outputs": [],
   "source": [
    "# notebooks/Earthquake_EDA.ipynb (simplified as Python for illustration)\n",
    "\n",
    "import pandas as pd\n",
    "import matplotlib.pyplot as plt\n",
    "\n",
    "# Load processed data\n",
    "df = pd.read_csv('data/processed/earthquake_data.csv')\n",
    "\n",
    "# 1. Magnitude distribution over time\n",
    "plt.figure(figsize=(10,4))\n",
    "df.groupby('year')['mag'].mean().plot(kind='line')\n",
    "plt.title('Average Earthquake Magnitude by Year')\n",
    "plt.xlabel('Year')\n",
    "plt.ylabel('Average Magnitude')\n",
    "plt.grid(True)\n",
    "plt.show()\n",
    "\n",
    "# 2. Spatial distribution (scatter of long/lat colored by count)\n",
    "plt.figure(figsize=(6,5))\n",
    "plt.scatter(df['longitude'], df['latitude'], alpha=0.3, s=10)\n",
    "plt.title('Spatial Distribution of Earthquake Epicenters')\n",
    "plt.xlabel('Longitude')\n",
    "plt.ylabel('Latitude')\n",
    "plt.show()\n",
    "\n",
    "# 3. Magnitude vs. Depth correlation\n",
    "plt.figure(figsize=(6,5))\n",
    "plt.scatter(df['depth'], df['mag'], alpha=0.3)\n",
    "plt.title('Magnitude vs. Depth')\n",
    "plt.xlabel('Depth (km)')\n",
    "plt.ylabel('Magnitude')\n",
    "plt.show()\n"
   ]
  }
 ],
 "metadata": {
  "language_info": {
   "name": "python"
  }
 },
 "nbformat": 4,
 "nbformat_minor": 5
}
